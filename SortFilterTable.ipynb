{
 "cells": [
  {
   "cell_type": "markdown",
   "metadata": {},
   "source": [
    "Many preliminary questions about datasets can be answered with a combination of sorting and filtering. Finding the  highest (or lowest) data points, or excluding data that doesn't fufill multiple requirments, reduces noise and clarifies the pattern identified, if any. \n",
    "\n",
    "\n",
    "## Tables ##\n",
    "Excel operates primarily using spreadsheets. These can extend near infinitely horizontally and vertically, and Excel has no limitation on where data can go. You could throw data in cell A1 and cell AZH124 with nothing inbetween, and Excel would have no concerns with this. Tables are a bit different. Excel expects them to be neat, orderly, and predictable with definied columns that are consistently used. Tables allow you to analyze and manage related data easier than a raw spreadsheet, and Excel bundles several features behind these Tables. \n",
    "\n",
    "In an ideal world, your spreadsheets would always be arranged the same. Row 1 would be your Header, with each cell giving a title to the data that'll appear in the rows below for that column. Each row would be a single participant's data, with no duplicates and no missing data. That often doesn't happen. Data is almost always missing, duplicates can happen for a huge host of reasons, and headers are often more than a single row. People frequently use multiple rows of headers to further deliminiate and group the columns from one another, which can be useful for a human reader but will cause problems for any program trying to parse the data. The Freshwater indicator from World Bank is a great example of this. \n",
    "\n",
    "![A bad header](BadHeader.png)\n",
    "\n",
    "The data curators have given us four rows of headers. Joy! The first uses merged cells (a problem all in their own, which we'll save for a future day) to bin the columns below. The second and third rows describe the actual metric measured in each column, and the fourth is our date. This isn't data we can exclude, but it does prevent us from creating an easy clean table without any sort of data cleaning. For the purposes of this exercise, I've swapped rows three (metric name) and four (year of data collection), as I only am allowed one header in my Table. The metric name is the most descriptive, so I wanted that next to the actual data for when I created the Table. How you deal with bad headers will differ for each project, and will require clear reasoning and justification by yourself. \n",
    "\n",
    "To create a Table, select the data that you would like to Table with your mouse (click and drag, extending the selection to all relevant data). In my freshwater example, I selected from A4 to J230 (remember I swapped row 3 and 4 earlier). Along the top menu ribbon click \"Insert\" then \"Table\" (the third icon from the left). A popup will appear, letting you resize the data if necessary and select if your table has headers. Once done, click OK and your selected range will become a Table.\n",
    "\n",
    "![Table](TableOverview.png)\n",
    "\n",
    "This unlocks a whole slew of features. Really useful ones. \n",
    "\n",
    "### Sort  & Filter ####\n",
    "Next to each column header is a downward facing arrow. This is where you can sort a column, ascending or desending, which will automatically reorder the table based on that column's sort. This is useful to see highest or lowest cases, and quickly look over trends that may be present. You can also filter data within this pane as well. This can be done either by selecting the exact values allowed to be displayed for that column, or by using one of the filter options (which let you be a bit more nuanced, such as \"only values less than X\" or \"values between X and Y\"). Doing so will never delete or remove your data, but it will hide the data from the user and omit it for any calculations. \n",
    "\n",
    "![Sort](Sort.png)"
   ]
  },
  {
   "cell_type": "code",
   "execution_count": null,
   "metadata": {},
   "outputs": [],
   "source": []
  }
 ],
 "metadata": {
  "kernelspec": {
   "display_name": "Python 3",
   "language": "python",
   "name": "python3"
  },
  "language_info": {
   "codemirror_mode": {
    "name": "ipython",
    "version": 3
   },
   "file_extension": ".py",
   "mimetype": "text/x-python",
   "name": "python",
   "nbconvert_exporter": "python",
   "pygments_lexer": "ipython3",
   "version": "3.7.7"
  }
 },
 "nbformat": 4,
 "nbformat_minor": 4
}
